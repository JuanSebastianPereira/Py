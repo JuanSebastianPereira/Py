{
  "cells": [
    {
      "cell_type": "markdown",
      "source": [
        "#Итоговая работа"
      ],
      "metadata": {
        "id": "32sUVg65U1U_"
      }
    },
    {
      "cell_type": "markdown",
      "source": [
        "Задание\n",
        "\n",
        "Дан файл HR.csv с данными по опросу уровня удовлетворенности сотрудниками работой.\n",
        "\n",
        "Файл доступен тут -\n",
        "\n",
        "https://drive.google.com/file/d/1INgo03nal-vwFJe7Lec5vOUtOwfJdUr1/view?usp=sharing\n",
        "\n",
        "Признаки:\n",
        "1. satisfaction_level - Уровень удовлетворенности работой\n",
        "2. Last_evaluation - Время с момента последней оценки в годах\n",
        "3. number_projects - Количество проектов, выполненных за время работы\n",
        "4. average_monthly_hours - Среднее количество часов на рабочем месте в месяц\n",
        "5. time_spend_company - Стаж работы в компании в годах\n",
        "6. work_accident - Происходили ли несчастные случаи на рабочем месте с сотрудником\n",
        "7. left - уволился ли сотрудник\n",
        "8. promotion_last_5years - повышался ли сотрудник за последние пять лет\n",
        "9. department - отдел в котором работает сотрудник\n",
        "10. salary - относительный уровень зарплаты\n",
        "\n"
      ],
      "metadata": {
        "id": "wWSn_FqMIpCe"
      }
    },
    {
      "cell_type": "markdown",
      "source": [
        "Требуется выполнить следующее задание:\n",
        "\n",
        "1. Загрузите файл HR.csv в pandas dataframe\n",
        "\n",
        "2. Рассчитайте основные статистики для переменных\n",
        "(среднее,медиана,мода,мин/макс,сред.отклонение).\n",
        "\n",
        "3. Рассчитайте и визуализировать корреляционную матрицу для\n",
        "количественных переменных.\n",
        "Определите две самые скоррелированные и две наименее\n",
        "скоррелированные переменные.\n",
        "\n",
        "4. Рассчитайте сколько сотрудников работает в каждом\n",
        "департаменте.\n",
        "\n",
        "5. Показать распределение сотрудников по зарплатам.\n",
        "\n",
        "6. Показать распределение сотрудников по зарплатам в каждом\n",
        "департаменте по отдельности\n",
        "\n",
        "7. Проверить гипотезу, что сотрудники с высоким окладом\n",
        "проводят на работе больше времени, чем сотрудники с низким\n",
        "окладом\n",
        "\n",
        "8. Рассчитать следующие показатели среди уволившихся и не\n",
        "уволившихся сотрудников (по отдельности):\n",
        "*   Доля сотрудников с повышением за последние 5 лет\n",
        "*   Средняя степень удовлетворенности\n",
        "*   Среднее количество проектов\n",
        "\n",
        "9. Разделить данные на тестовую и обучающую выборки\n",
        "Построить модель LDA, предсказывающую уволился ли\n",
        "сотрудник на основе имеющихся факторов (кроме department и\n",
        "salary)\n",
        "Оценить качество модели на тестовой выборки\n",
        "\n",
        "10. Загрузить jupyter notebook с решение на github и прислать ссылку\n",
        "\n"
      ],
      "metadata": {
        "id": "VZ5-AyUKJuxg"
      }
    },
    {
      "cell_type": "markdown",
      "source": [
        "#1. Загрузите файл HR.csv в pandas dataframe"
      ],
      "metadata": {
        "id": "hpzNS7DdU--d"
      }
    },
    {
      "cell_type": "code",
      "source": [
        "import pandas as pd"
      ],
      "metadata": {
        "id": "gvnS3EpBI5wE"
      },
      "execution_count": 2,
      "outputs": []
    },
    {
      "cell_type": "code",
      "source": [
        "hr = pd.read_csv(\"HR.csv\")\n",
        "\n",
        "hr.head(5)"
      ],
      "metadata": {
        "colab": {
          "base_uri": "https://localhost:8080/",
          "height": 206
        },
        "id": "AQ4Y5bEkgEV1",
        "outputId": "657f638d-a9ee-43d7-9db6-dfa0e20b10ff"
      },
      "execution_count": 54,
      "outputs": [
        {
          "output_type": "execute_result",
          "data": {
            "text/plain": [
              "   satisfaction_level  last_evaluation  number_project  average_montly_hours  \\\n",
              "0                0.38             0.53               2                   157   \n",
              "1                0.80             0.86               5                   262   \n",
              "2                0.11             0.88               7                   272   \n",
              "3                0.72             0.87               5                   223   \n",
              "4                0.37             0.52               2                   159   \n",
              "\n",
              "   time_spend_company  Work_accident  left  promotion_last_5years department  \\\n",
              "0                   3              0     1                      0      sales   \n",
              "1                   6              0     1                      0      sales   \n",
              "2                   4              0     1                      0      sales   \n",
              "3                   5              0     1                      0      sales   \n",
              "4                   3              0     1                      0      sales   \n",
              "\n",
              "   salary  \n",
              "0     low  \n",
              "1  medium  \n",
              "2  medium  \n",
              "3     low  \n",
              "4     low  "
            ],
            "text/html": [
              "\n",
              "  <div id=\"df-cf172c66-073b-4c3e-91ab-de0e37631f6d\" class=\"colab-df-container\">\n",
              "    <div>\n",
              "<style scoped>\n",
              "    .dataframe tbody tr th:only-of-type {\n",
              "        vertical-align: middle;\n",
              "    }\n",
              "\n",
              "    .dataframe tbody tr th {\n",
              "        vertical-align: top;\n",
              "    }\n",
              "\n",
              "    .dataframe thead th {\n",
              "        text-align: right;\n",
              "    }\n",
              "</style>\n",
              "<table border=\"1\" class=\"dataframe\">\n",
              "  <thead>\n",
              "    <tr style=\"text-align: right;\">\n",
              "      <th></th>\n",
              "      <th>satisfaction_level</th>\n",
              "      <th>last_evaluation</th>\n",
              "      <th>number_project</th>\n",
              "      <th>average_montly_hours</th>\n",
              "      <th>time_spend_company</th>\n",
              "      <th>Work_accident</th>\n",
              "      <th>left</th>\n",
              "      <th>promotion_last_5years</th>\n",
              "      <th>department</th>\n",
              "      <th>salary</th>\n",
              "    </tr>\n",
              "  </thead>\n",
              "  <tbody>\n",
              "    <tr>\n",
              "      <th>0</th>\n",
              "      <td>0.38</td>\n",
              "      <td>0.53</td>\n",
              "      <td>2</td>\n",
              "      <td>157</td>\n",
              "      <td>3</td>\n",
              "      <td>0</td>\n",
              "      <td>1</td>\n",
              "      <td>0</td>\n",
              "      <td>sales</td>\n",
              "      <td>low</td>\n",
              "    </tr>\n",
              "    <tr>\n",
              "      <th>1</th>\n",
              "      <td>0.80</td>\n",
              "      <td>0.86</td>\n",
              "      <td>5</td>\n",
              "      <td>262</td>\n",
              "      <td>6</td>\n",
              "      <td>0</td>\n",
              "      <td>1</td>\n",
              "      <td>0</td>\n",
              "      <td>sales</td>\n",
              "      <td>medium</td>\n",
              "    </tr>\n",
              "    <tr>\n",
              "      <th>2</th>\n",
              "      <td>0.11</td>\n",
              "      <td>0.88</td>\n",
              "      <td>7</td>\n",
              "      <td>272</td>\n",
              "      <td>4</td>\n",
              "      <td>0</td>\n",
              "      <td>1</td>\n",
              "      <td>0</td>\n",
              "      <td>sales</td>\n",
              "      <td>medium</td>\n",
              "    </tr>\n",
              "    <tr>\n",
              "      <th>3</th>\n",
              "      <td>0.72</td>\n",
              "      <td>0.87</td>\n",
              "      <td>5</td>\n",
              "      <td>223</td>\n",
              "      <td>5</td>\n",
              "      <td>0</td>\n",
              "      <td>1</td>\n",
              "      <td>0</td>\n",
              "      <td>sales</td>\n",
              "      <td>low</td>\n",
              "    </tr>\n",
              "    <tr>\n",
              "      <th>4</th>\n",
              "      <td>0.37</td>\n",
              "      <td>0.52</td>\n",
              "      <td>2</td>\n",
              "      <td>159</td>\n",
              "      <td>3</td>\n",
              "      <td>0</td>\n",
              "      <td>1</td>\n",
              "      <td>0</td>\n",
              "      <td>sales</td>\n",
              "      <td>low</td>\n",
              "    </tr>\n",
              "  </tbody>\n",
              "</table>\n",
              "</div>\n",
              "    <div class=\"colab-df-buttons\">\n",
              "\n",
              "  <div class=\"colab-df-container\">\n",
              "    <button class=\"colab-df-convert\" onclick=\"convertToInteractive('df-cf172c66-073b-4c3e-91ab-de0e37631f6d')\"\n",
              "            title=\"Convert this dataframe to an interactive table.\"\n",
              "            style=\"display:none;\">\n",
              "\n",
              "  <svg xmlns=\"http://www.w3.org/2000/svg\" height=\"24px\" viewBox=\"0 -960 960 960\">\n",
              "    <path d=\"M120-120v-720h720v720H120Zm60-500h600v-160H180v160Zm220 220h160v-160H400v160Zm0 220h160v-160H400v160ZM180-400h160v-160H180v160Zm440 0h160v-160H620v160ZM180-180h160v-160H180v160Zm440 0h160v-160H620v160Z\"/>\n",
              "  </svg>\n",
              "    </button>\n",
              "\n",
              "  <style>\n",
              "    .colab-df-container {\n",
              "      display:flex;\n",
              "      gap: 12px;\n",
              "    }\n",
              "\n",
              "    .colab-df-convert {\n",
              "      background-color: #E8F0FE;\n",
              "      border: none;\n",
              "      border-radius: 50%;\n",
              "      cursor: pointer;\n",
              "      display: none;\n",
              "      fill: #1967D2;\n",
              "      height: 32px;\n",
              "      padding: 0 0 0 0;\n",
              "      width: 32px;\n",
              "    }\n",
              "\n",
              "    .colab-df-convert:hover {\n",
              "      background-color: #E2EBFA;\n",
              "      box-shadow: 0px 1px 2px rgba(60, 64, 67, 0.3), 0px 1px 3px 1px rgba(60, 64, 67, 0.15);\n",
              "      fill: #174EA6;\n",
              "    }\n",
              "\n",
              "    .colab-df-buttons div {\n",
              "      margin-bottom: 4px;\n",
              "    }\n",
              "\n",
              "    [theme=dark] .colab-df-convert {\n",
              "      background-color: #3B4455;\n",
              "      fill: #D2E3FC;\n",
              "    }\n",
              "\n",
              "    [theme=dark] .colab-df-convert:hover {\n",
              "      background-color: #434B5C;\n",
              "      box-shadow: 0px 1px 3px 1px rgba(0, 0, 0, 0.15);\n",
              "      filter: drop-shadow(0px 1px 2px rgba(0, 0, 0, 0.3));\n",
              "      fill: #FFFFFF;\n",
              "    }\n",
              "  </style>\n",
              "\n",
              "    <script>\n",
              "      const buttonEl =\n",
              "        document.querySelector('#df-cf172c66-073b-4c3e-91ab-de0e37631f6d button.colab-df-convert');\n",
              "      buttonEl.style.display =\n",
              "        google.colab.kernel.accessAllowed ? 'block' : 'none';\n",
              "\n",
              "      async function convertToInteractive(key) {\n",
              "        const element = document.querySelector('#df-cf172c66-073b-4c3e-91ab-de0e37631f6d');\n",
              "        const dataTable =\n",
              "          await google.colab.kernel.invokeFunction('convertToInteractive',\n",
              "                                                    [key], {});\n",
              "        if (!dataTable) return;\n",
              "\n",
              "        const docLinkHtml = 'Like what you see? Visit the ' +\n",
              "          '<a target=\"_blank\" href=https://colab.research.google.com/notebooks/data_table.ipynb>data table notebook</a>'\n",
              "          + ' to learn more about interactive tables.';\n",
              "        element.innerHTML = '';\n",
              "        dataTable['output_type'] = 'display_data';\n",
              "        await google.colab.output.renderOutput(dataTable, element);\n",
              "        const docLink = document.createElement('div');\n",
              "        docLink.innerHTML = docLinkHtml;\n",
              "        element.appendChild(docLink);\n",
              "      }\n",
              "    </script>\n",
              "  </div>\n",
              "\n",
              "\n",
              "<div id=\"df-384105fe-6021-4401-8091-14f1ba2295ed\">\n",
              "  <button class=\"colab-df-quickchart\" onclick=\"quickchart('df-384105fe-6021-4401-8091-14f1ba2295ed')\"\n",
              "            title=\"Suggest charts\"\n",
              "            style=\"display:none;\">\n",
              "\n",
              "<svg xmlns=\"http://www.w3.org/2000/svg\" height=\"24px\"viewBox=\"0 0 24 24\"\n",
              "     width=\"24px\">\n",
              "    <g>\n",
              "        <path d=\"M19 3H5c-1.1 0-2 .9-2 2v14c0 1.1.9 2 2 2h14c1.1 0 2-.9 2-2V5c0-1.1-.9-2-2-2zM9 17H7v-7h2v7zm4 0h-2V7h2v10zm4 0h-2v-4h2v4z\"/>\n",
              "    </g>\n",
              "</svg>\n",
              "  </button>\n",
              "\n",
              "<style>\n",
              "  .colab-df-quickchart {\n",
              "      --bg-color: #E8F0FE;\n",
              "      --fill-color: #1967D2;\n",
              "      --hover-bg-color: #E2EBFA;\n",
              "      --hover-fill-color: #174EA6;\n",
              "      --disabled-fill-color: #AAA;\n",
              "      --disabled-bg-color: #DDD;\n",
              "  }\n",
              "\n",
              "  [theme=dark] .colab-df-quickchart {\n",
              "      --bg-color: #3B4455;\n",
              "      --fill-color: #D2E3FC;\n",
              "      --hover-bg-color: #434B5C;\n",
              "      --hover-fill-color: #FFFFFF;\n",
              "      --disabled-bg-color: #3B4455;\n",
              "      --disabled-fill-color: #666;\n",
              "  }\n",
              "\n",
              "  .colab-df-quickchart {\n",
              "    background-color: var(--bg-color);\n",
              "    border: none;\n",
              "    border-radius: 50%;\n",
              "    cursor: pointer;\n",
              "    display: none;\n",
              "    fill: var(--fill-color);\n",
              "    height: 32px;\n",
              "    padding: 0;\n",
              "    width: 32px;\n",
              "  }\n",
              "\n",
              "  .colab-df-quickchart:hover {\n",
              "    background-color: var(--hover-bg-color);\n",
              "    box-shadow: 0 1px 2px rgba(60, 64, 67, 0.3), 0 1px 3px 1px rgba(60, 64, 67, 0.15);\n",
              "    fill: var(--button-hover-fill-color);\n",
              "  }\n",
              "\n",
              "  .colab-df-quickchart-complete:disabled,\n",
              "  .colab-df-quickchart-complete:disabled:hover {\n",
              "    background-color: var(--disabled-bg-color);\n",
              "    fill: var(--disabled-fill-color);\n",
              "    box-shadow: none;\n",
              "  }\n",
              "\n",
              "  .colab-df-spinner {\n",
              "    border: 2px solid var(--fill-color);\n",
              "    border-color: transparent;\n",
              "    border-bottom-color: var(--fill-color);\n",
              "    animation:\n",
              "      spin 1s steps(1) infinite;\n",
              "  }\n",
              "\n",
              "  @keyframes spin {\n",
              "    0% {\n",
              "      border-color: transparent;\n",
              "      border-bottom-color: var(--fill-color);\n",
              "      border-left-color: var(--fill-color);\n",
              "    }\n",
              "    20% {\n",
              "      border-color: transparent;\n",
              "      border-left-color: var(--fill-color);\n",
              "      border-top-color: var(--fill-color);\n",
              "    }\n",
              "    30% {\n",
              "      border-color: transparent;\n",
              "      border-left-color: var(--fill-color);\n",
              "      border-top-color: var(--fill-color);\n",
              "      border-right-color: var(--fill-color);\n",
              "    }\n",
              "    40% {\n",
              "      border-color: transparent;\n",
              "      border-right-color: var(--fill-color);\n",
              "      border-top-color: var(--fill-color);\n",
              "    }\n",
              "    60% {\n",
              "      border-color: transparent;\n",
              "      border-right-color: var(--fill-color);\n",
              "    }\n",
              "    80% {\n",
              "      border-color: transparent;\n",
              "      border-right-color: var(--fill-color);\n",
              "      border-bottom-color: var(--fill-color);\n",
              "    }\n",
              "    90% {\n",
              "      border-color: transparent;\n",
              "      border-bottom-color: var(--fill-color);\n",
              "    }\n",
              "  }\n",
              "</style>\n",
              "\n",
              "  <script>\n",
              "    async function quickchart(key) {\n",
              "      const quickchartButtonEl =\n",
              "        document.querySelector('#' + key + ' button');\n",
              "      quickchartButtonEl.disabled = true;  // To prevent multiple clicks.\n",
              "      quickchartButtonEl.classList.add('colab-df-spinner');\n",
              "      try {\n",
              "        const charts = await google.colab.kernel.invokeFunction(\n",
              "            'suggestCharts', [key], {});\n",
              "      } catch (error) {\n",
              "        console.error('Error during call to suggestCharts:', error);\n",
              "      }\n",
              "      quickchartButtonEl.classList.remove('colab-df-spinner');\n",
              "      quickchartButtonEl.classList.add('colab-df-quickchart-complete');\n",
              "    }\n",
              "    (() => {\n",
              "      let quickchartButtonEl =\n",
              "        document.querySelector('#df-384105fe-6021-4401-8091-14f1ba2295ed button');\n",
              "      quickchartButtonEl.style.display =\n",
              "        google.colab.kernel.accessAllowed ? 'block' : 'none';\n",
              "    })();\n",
              "  </script>\n",
              "</div>\n",
              "    </div>\n",
              "  </div>\n"
            ]
          },
          "metadata": {},
          "execution_count": 54
        }
      ]
    },
    {
      "cell_type": "markdown",
      "source": [],
      "metadata": {
        "id": "opPs0XlNz3x1"
      }
    },
    {
      "cell_type": "markdown",
      "source": [
        "# 2. Рассчитайте основные статистики для переменных (среднее,медиана,мода,мин/макс,сред.отклонение)."
      ],
      "metadata": {
        "id": "nEsHnOddoWak"
      }
    },
    {
      "cell_type": "code",
      "source": [
        "#проводим анализ непрерывных величин\n",
        "\n",
        "#вычисляем количество, среднее значение, минимум/максимум, среднеквадратическое отклонение и квартили\n",
        "print(hr[['satisfaction_level', 'last_evaluation', 'number_project', 'average_montly_hours', 'time_spend_company']].describe())\n",
        "\n",
        "#так же считаем медиану\n",
        "print(hr[['satisfaction_level', 'last_evaluation', 'number_project', 'average_montly_hours', 'time_spend_company']].median())"
      ],
      "metadata": {
        "colab": {
          "base_uri": "https://localhost:8080/"
        },
        "id": "ft_RASNmjjN8",
        "outputId": "645336cd-d05f-48d6-c44e-766d7b63f721"
      },
      "execution_count": 5,
      "outputs": [
        {
          "output_type": "stream",
          "name": "stdout",
          "text": [
            "       satisfaction_level  last_evaluation  number_project  \\\n",
            "count        14999.000000     14999.000000    14999.000000   \n",
            "mean             0.612834         0.716102        3.803054   \n",
            "std              0.248631         0.171169        1.232592   \n",
            "min              0.090000         0.360000        2.000000   \n",
            "25%              0.440000         0.560000        3.000000   \n",
            "50%              0.640000         0.720000        4.000000   \n",
            "75%              0.820000         0.870000        5.000000   \n",
            "max              1.000000         1.000000        7.000000   \n",
            "\n",
            "       average_montly_hours  time_spend_company  \n",
            "count          14999.000000        14999.000000  \n",
            "mean             201.050337            3.498233  \n",
            "std               49.943099            1.460136  \n",
            "min               96.000000            2.000000  \n",
            "25%              156.000000            3.000000  \n",
            "50%              200.000000            3.000000  \n",
            "75%              245.000000            4.000000  \n",
            "max              310.000000           10.000000  \n",
            "satisfaction_level        0.64\n",
            "last_evaluation           0.72\n",
            "number_project            4.00\n",
            "average_montly_hours    200.00\n",
            "time_spend_company        3.00\n",
            "dtype: float64\n"
          ]
        }
      ]
    },
    {
      "cell_type": "code",
      "source": [
        "#проводим анализ категориальных величин\n",
        "\n",
        "#узнаём уникальные значения\n",
        "for col in hr[['Work_accident','left', 'promotion_last_5years', 'department', 'salary']]:\n",
        " print(col, '->', hr[col].unique())\n",
        "\n",
        "#расчитываем моду\n",
        "print('\\r\\n', hr[['Work_accident','left', 'promotion_last_5years', 'department', 'salary']].mode())\n",
        "\n",
        "#анализируем распределение по категориям\n",
        "for col in hr[['Work_accident','left', 'promotion_last_5years', 'department', 'salary']]:\n",
        "  print('\\r\\n')\n",
        "  print(hr[col].value_counts())"
      ],
      "metadata": {
        "colab": {
          "base_uri": "https://localhost:8080/"
        },
        "id": "eyxKF1n2kVjq",
        "outputId": "2f071363-215f-493f-9747-dad57e67c03f"
      },
      "execution_count": 6,
      "outputs": [
        {
          "output_type": "stream",
          "name": "stdout",
          "text": [
            "Work_accident -> [0 1]\n",
            "left -> [1 0]\n",
            "promotion_last_5years -> [0 1]\n",
            "department -> ['sales' 'accounting' 'hr' 'technical' 'support' 'management' 'IT'\n",
            " 'product_mng' 'marketing' 'RandD']\n",
            "salary -> ['low' 'medium' 'high']\n",
            "\r\n",
            "    Work_accident  left  promotion_last_5years department salary\n",
            "0              0     0                      0      sales    low\n",
            "\r\n",
            "\n",
            "0    12830\n",
            "1     2169\n",
            "Name: Work_accident, dtype: int64\n",
            "\r\n",
            "\n",
            "0    11428\n",
            "1     3571\n",
            "Name: left, dtype: int64\n",
            "\r\n",
            "\n",
            "0    14680\n",
            "1      319\n",
            "Name: promotion_last_5years, dtype: int64\n",
            "\r\n",
            "\n",
            "sales          4140\n",
            "technical      2720\n",
            "support        2229\n",
            "IT             1227\n",
            "product_mng     902\n",
            "marketing       858\n",
            "RandD           787\n",
            "accounting      767\n",
            "hr              739\n",
            "management      630\n",
            "Name: department, dtype: int64\n",
            "\r\n",
            "\n",
            "low       7316\n",
            "medium    6446\n",
            "high      1237\n",
            "Name: salary, dtype: int64\n"
          ]
        }
      ]
    },
    {
      "cell_type": "markdown",
      "source": [
        "# 3. Рассчитайте и визуализировать корреляционную матрицу для количественных переменных. Определите две самые скоррелированные и две наименее скоррелированные переменные."
      ],
      "metadata": {
        "id": "WBWU4riLoY5b"
      }
    },
    {
      "cell_type": "code",
      "source": [
        "#расчитываем корреляционную матрицу для количественных переменных\n",
        "hr_corr = hr[['satisfaction_level', 'last_evaluation', 'number_project', 'average_montly_hours', 'time_spend_company']].corr().round(3)\n",
        "print(hr_corr)\n",
        "\n",
        "#Определите две самые скоррелированные переменные:\n",
        "'''\n",
        "Самыми скоррелированными оказались такие пары переменных:\n",
        "average_montly_hours/number_project -> 0.417\n",
        "last_evaluation/number_project -> 0.349\n",
        "\n",
        "Вывод:\n",
        "Среднее количество часов на рабочем месте в месяц коррелирует с количеством проектов, выполненных за время работы\n",
        "Время с момента последней оценки в годах коррелирует с количеством проектов, выполненных за время работы\n",
        "'''\n",
        "\n",
        "#Определите две наименее скоррелированные переменные:\n",
        "'''\n",
        "Наименее скоррелированными оказались следующие пары:\n",
        "number_project/satisfaction_level -> -0.143\n",
        "satisfaction_level/time_spend_company -> -0.101\n",
        "\n",
        "Вывод:\n",
        "Количество проектов, выполненных за время работы не коррелирует с уровнем удовлетворенности работой\n",
        "Уровень удовлетворенности работой не коррелирует со стажем работы в компании в годах\n",
        "'''\n",
        "\n",
        "#визуализируем корреляционную матрицу для количественных переменных\n",
        "hr_corr.style.background_gradient(cmap='RdYlGn')\n",
        "\n"
      ],
      "metadata": {
        "id": "cqAWDSatDK4V",
        "colab": {
          "base_uri": "https://localhost:8080/",
          "height": 431
        },
        "outputId": "8b0206e5-d071-4fc1-915b-e1c10201ec7b"
      },
      "execution_count": 7,
      "outputs": [
        {
          "output_type": "stream",
          "name": "stdout",
          "text": [
            "                      satisfaction_level  last_evaluation  number_project  \\\n",
            "satisfaction_level                 1.000            0.105          -0.143   \n",
            "last_evaluation                    0.105            1.000           0.349   \n",
            "number_project                    -0.143            0.349           1.000   \n",
            "average_montly_hours              -0.020            0.340           0.417   \n",
            "time_spend_company                -0.101            0.132           0.197   \n",
            "\n",
            "                      average_montly_hours  time_spend_company  \n",
            "satisfaction_level                  -0.020              -0.101  \n",
            "last_evaluation                      0.340               0.132  \n",
            "number_project                       0.417               0.197  \n",
            "average_montly_hours                 1.000               0.128  \n",
            "time_spend_company                   0.128               1.000  \n"
          ]
        },
        {
          "output_type": "execute_result",
          "data": {
            "text/plain": [
              "<pandas.io.formats.style.Styler at 0x7a986c0beb30>"
            ],
            "text/html": [
              "<style type=\"text/css\">\n",
              "#T_37417_row0_col0, #T_37417_row1_col1, #T_37417_row2_col2, #T_37417_row3_col3, #T_37417_row4_col4 {\n",
              "  background-color: #006837;\n",
              "  color: #f1f1f1;\n",
              "}\n",
              "#T_37417_row0_col1, #T_37417_row0_col2, #T_37417_row0_col3, #T_37417_row0_col4, #T_37417_row2_col0 {\n",
              "  background-color: #a50026;\n",
              "  color: #f1f1f1;\n",
              "}\n",
              "#T_37417_row1_col0 {\n",
              "  background-color: #f57748;\n",
              "  color: #f1f1f1;\n",
              "}\n",
              "#T_37417_row1_col2 {\n",
              "  background-color: #feea9b;\n",
              "  color: #000000;\n",
              "}\n",
              "#T_37417_row1_col3 {\n",
              "  background-color: #fec877;\n",
              "  color: #000000;\n",
              "}\n",
              "#T_37417_row1_col4 {\n",
              "  background-color: #f57547;\n",
              "  color: #f1f1f1;\n",
              "}\n",
              "#T_37417_row2_col1, #T_37417_row2_col4 {\n",
              "  background-color: #fa9b58;\n",
              "  color: #000000;\n",
              "}\n",
              "#T_37417_row2_col3 {\n",
              "  background-color: #fee999;\n",
              "  color: #000000;\n",
              "}\n",
              "#T_37417_row3_col0 {\n",
              "  background-color: #d93429;\n",
              "  color: #f1f1f1;\n",
              "}\n",
              "#T_37417_row3_col1 {\n",
              "  background-color: #fa9656;\n",
              "  color: #000000;\n",
              "}\n",
              "#T_37417_row3_col2 {\n",
              "  background-color: #fffcba;\n",
              "  color: #000000;\n",
              "}\n",
              "#T_37417_row3_col4 {\n",
              "  background-color: #f57245;\n",
              "  color: #f1f1f1;\n",
              "}\n",
              "#T_37417_row4_col0 {\n",
              "  background-color: #b71126;\n",
              "  color: #f1f1f1;\n",
              "}\n",
              "#T_37417_row4_col1 {\n",
              "  background-color: #b30d26;\n",
              "  color: #f1f1f1;\n",
              "}\n",
              "#T_37417_row4_col2 {\n",
              "  background-color: #fdad60;\n",
              "  color: #000000;\n",
              "}\n",
              "#T_37417_row4_col3 {\n",
              "  background-color: #e44c34;\n",
              "  color: #f1f1f1;\n",
              "}\n",
              "</style>\n",
              "<table id=\"T_37417\" class=\"dataframe\">\n",
              "  <thead>\n",
              "    <tr>\n",
              "      <th class=\"blank level0\" >&nbsp;</th>\n",
              "      <th id=\"T_37417_level0_col0\" class=\"col_heading level0 col0\" >satisfaction_level</th>\n",
              "      <th id=\"T_37417_level0_col1\" class=\"col_heading level0 col1\" >last_evaluation</th>\n",
              "      <th id=\"T_37417_level0_col2\" class=\"col_heading level0 col2\" >number_project</th>\n",
              "      <th id=\"T_37417_level0_col3\" class=\"col_heading level0 col3\" >average_montly_hours</th>\n",
              "      <th id=\"T_37417_level0_col4\" class=\"col_heading level0 col4\" >time_spend_company</th>\n",
              "    </tr>\n",
              "  </thead>\n",
              "  <tbody>\n",
              "    <tr>\n",
              "      <th id=\"T_37417_level0_row0\" class=\"row_heading level0 row0\" >satisfaction_level</th>\n",
              "      <td id=\"T_37417_row0_col0\" class=\"data row0 col0\" >1.000000</td>\n",
              "      <td id=\"T_37417_row0_col1\" class=\"data row0 col1\" >0.105000</td>\n",
              "      <td id=\"T_37417_row0_col2\" class=\"data row0 col2\" >-0.143000</td>\n",
              "      <td id=\"T_37417_row0_col3\" class=\"data row0 col3\" >-0.020000</td>\n",
              "      <td id=\"T_37417_row0_col4\" class=\"data row0 col4\" >-0.101000</td>\n",
              "    </tr>\n",
              "    <tr>\n",
              "      <th id=\"T_37417_level0_row1\" class=\"row_heading level0 row1\" >last_evaluation</th>\n",
              "      <td id=\"T_37417_row1_col0\" class=\"data row1 col0\" >0.105000</td>\n",
              "      <td id=\"T_37417_row1_col1\" class=\"data row1 col1\" >1.000000</td>\n",
              "      <td id=\"T_37417_row1_col2\" class=\"data row1 col2\" >0.349000</td>\n",
              "      <td id=\"T_37417_row1_col3\" class=\"data row1 col3\" >0.340000</td>\n",
              "      <td id=\"T_37417_row1_col4\" class=\"data row1 col4\" >0.132000</td>\n",
              "    </tr>\n",
              "    <tr>\n",
              "      <th id=\"T_37417_level0_row2\" class=\"row_heading level0 row2\" >number_project</th>\n",
              "      <td id=\"T_37417_row2_col0\" class=\"data row2 col0\" >-0.143000</td>\n",
              "      <td id=\"T_37417_row2_col1\" class=\"data row2 col1\" >0.349000</td>\n",
              "      <td id=\"T_37417_row2_col2\" class=\"data row2 col2\" >1.000000</td>\n",
              "      <td id=\"T_37417_row2_col3\" class=\"data row2 col3\" >0.417000</td>\n",
              "      <td id=\"T_37417_row2_col4\" class=\"data row2 col4\" >0.197000</td>\n",
              "    </tr>\n",
              "    <tr>\n",
              "      <th id=\"T_37417_level0_row3\" class=\"row_heading level0 row3\" >average_montly_hours</th>\n",
              "      <td id=\"T_37417_row3_col0\" class=\"data row3 col0\" >-0.020000</td>\n",
              "      <td id=\"T_37417_row3_col1\" class=\"data row3 col1\" >0.340000</td>\n",
              "      <td id=\"T_37417_row3_col2\" class=\"data row3 col2\" >0.417000</td>\n",
              "      <td id=\"T_37417_row3_col3\" class=\"data row3 col3\" >1.000000</td>\n",
              "      <td id=\"T_37417_row3_col4\" class=\"data row3 col4\" >0.128000</td>\n",
              "    </tr>\n",
              "    <tr>\n",
              "      <th id=\"T_37417_level0_row4\" class=\"row_heading level0 row4\" >time_spend_company</th>\n",
              "      <td id=\"T_37417_row4_col0\" class=\"data row4 col0\" >-0.101000</td>\n",
              "      <td id=\"T_37417_row4_col1\" class=\"data row4 col1\" >0.132000</td>\n",
              "      <td id=\"T_37417_row4_col2\" class=\"data row4 col2\" >0.197000</td>\n",
              "      <td id=\"T_37417_row4_col3\" class=\"data row4 col3\" >0.128000</td>\n",
              "      <td id=\"T_37417_row4_col4\" class=\"data row4 col4\" >1.000000</td>\n",
              "    </tr>\n",
              "  </tbody>\n",
              "</table>\n"
            ]
          },
          "metadata": {},
          "execution_count": 7
        }
      ]
    },
    {
      "cell_type": "markdown",
      "source": [
        "# 4. Рассчитайте сколько сотрудников работает в каждом департаменте."
      ],
      "metadata": {
        "id": "BFwq1hCFo2i0"
      }
    },
    {
      "cell_type": "code",
      "source": [
        "hr.value_counts('department')"
      ],
      "metadata": {
        "colab": {
          "base_uri": "https://localhost:8080/"
        },
        "id": "eueyzyzRvgy1",
        "outputId": "f453f7cd-65cb-4341-a082-d1fe3a65556c"
      },
      "execution_count": 8,
      "outputs": [
        {
          "output_type": "execute_result",
          "data": {
            "text/plain": [
              "department\n",
              "sales          4140\n",
              "technical      2720\n",
              "support        2229\n",
              "IT             1227\n",
              "product_mng     902\n",
              "marketing       858\n",
              "RandD           787\n",
              "accounting      767\n",
              "hr              739\n",
              "management      630\n",
              "dtype: int64"
            ]
          },
          "metadata": {},
          "execution_count": 8
        }
      ]
    },
    {
      "cell_type": "markdown",
      "source": [
        "#5. Показать распределение сотрудников по зарплатам."
      ],
      "metadata": {
        "id": "VGktBFG9zGSc"
      }
    },
    {
      "cell_type": "code",
      "source": [
        "#визуализируем распределение заработной платы на круговой диаграмме\n",
        "hr.value_counts('salary').plot(kind='pie', y='salary', autopct='%1.0f%%', colors = ['red', 'pink', 'steelblue'], title='Распределение по уровням заработной платы')\n"
      ],
      "metadata": {
        "colab": {
          "base_uri": "https://localhost:8080/",
          "height": 446
        },
        "id": "eSb4QOmE0lNy",
        "outputId": "8224e5d2-269d-485d-dd1e-2208313e18d4"
      },
      "execution_count": 9,
      "outputs": [
        {
          "output_type": "execute_result",
          "data": {
            "text/plain": [
              "<Axes: title={'center': 'Распределение по уровням заработной платы'}>"
            ]
          },
          "metadata": {},
          "execution_count": 9
        },
        {
          "output_type": "display_data",
          "data": {
            "text/plain": [
              "<Figure size 640x480 with 1 Axes>"
            ],
            "image/png": "[encoded data removed]"
          },
          "metadata": {}
        }
      ]
    },
    {
      "cell_type": "markdown",
      "source": [
        "#6. Показать распределение сотрудников по зарплатам в каждом департаменте по отдельности"
      ],
      "metadata": {
        "id": "BY0Z_AzPzKsm"
      }
    },
    {
      "cell_type": "code",
      "source": [
        "import matplotlib.pyplot as plt\n",
        "import numpy as np"
      ],
      "metadata": {
        "id": "ALtE5QFy7sg8"
      },
      "execution_count": 15,
      "outputs": []
    },
    {
      "cell_type": "code",
      "source": [
        "large = 22; med = 16; small = 12\n",
        "params = {'axes.titlesize': large,\n",
        "          'legend.fontsize': med,\n",
        "          'figure.figsize': (16, 10),\n",
        "          'axes.labelsize': med,\n",
        "          'axes.titlesize': med,\n",
        "          'xtick.labelsize': med,\n",
        "          'ytick.labelsize': med,\n",
        "          'figure.titlesize': large}\n",
        "plt.rcParams.update(params)\n",
        "plt.style.use('seaborn-whitegrid')\n",
        "%matplotlib inline"
      ],
      "metadata": {
        "colab": {
          "base_uri": "https://localhost:8080/"
        },
        "id": "alakIN2Ph_yG",
        "outputId": "b2c1dcd9-bde4-445c-bb13-5b0b746a1c36"
      },
      "execution_count": 22,
      "outputs": [
        {
          "output_type": "stream",
          "name": "stderr",
          "text": [
            "<ipython-input-22-0004a8151073>:11: MatplotlibDeprecationWarning: The seaborn styles shipped by Matplotlib are deprecated since 3.6, as they no longer correspond to the styles shipped by seaborn. However, they will remain available as 'seaborn-v0_8-<style>'. Alternatively, directly use the seaborn API instead.\n",
            "  plt.style.use('seaborn-whitegrid')\n"
          ]
        }
      ]
    },
    {
      "cell_type": "code",
      "source": [
        "# Prepare data\n",
        "x_var = 'department'\n",
        "groupby_var = 'salary'\n",
        "hr_agg = hr.loc[:, [x_var, groupby_var]].groupby(groupby_var)\n",
        "vals = [hr[x_var].values.tolist() for i, hr in hr_agg]\n",
        "\n",
        "# Draw\n",
        "plt.figure(figsize=(16,9), dpi= 80)\n",
        "colors = [plt.cm.Accent(i/float(len(vals)-1)) for i in range(len(vals))]\n",
        "n, bins, patches = plt.hist(vals, hr[x_var].unique().__len__(), stacked=True, density=False, color=colors[:len(vals)])\n",
        "\n",
        "# Decoration\n",
        "plt.legend({group:col for group, col in zip(np.unique(hr[groupby_var]).tolist(), colors[:len(vals)])})\n",
        "plt.title(f\"Распределение сотрудников по зарплатам в пределах отдела\", fontsize=22)\n",
        "plt.xlabel(x_var)\n",
        "plt.ylabel(\"Count\")\n",
        "plt.show()"
      ],
      "metadata": {
        "colab": {
          "base_uri": "https://localhost:8080/",
          "height": 653
        },
        "id": "zCk3wscS_b8U",
        "outputId": "f3ba085b-903c-40dd-e3da-2f5fb03f3ab1"
      },
      "execution_count": 23,
      "outputs": [
        {
          "output_type": "display_data",
          "data": {
            "text/plain": [
              "<Figure size 1280x720 with 1 Axes>"
            ],
            "image/png": "[encoded data removed]"
          },
          "metadata": {}
        }
      ]
    },
    {
      "cell_type": "markdown",
      "source": [
        "#7. Проверить гипотезу, что сотрудники с высоким окладом проводят на работе больше времени, чем сотрудники с низким окладом"
      ],
      "metadata": {
        "id": "XdXdw8xJzN71"
      }
    },
    {
      "cell_type": "code",
      "source": [
        "import scipy.stats as st"
      ],
      "metadata": {
        "id": "qDuHQMQ3kEmF"
      },
      "execution_count": 43,
      "outputs": []
    },
    {
      "cell_type": "code",
      "source": [
        "def check_normality(data):\n",
        "\n",
        "  stat, p = st.shapiro(data) # тест Шапиро-Уилк\n",
        "  print(f\"Статистика = {stat:.3f}, p = {p:.3f}\")\n",
        "\n",
        "  if p < 0.05 : print(\"Отклоняем нулевую гипотезу >> Данные распределены не нормально\")\n",
        "  else :print(\"Не отклоняем нулевую гипотезу >> Данные распределены нормально\")\n",
        "\n",
        "def check_mannwhitneyu(data1, data2) :\n",
        "  stat, p = st.mannwhitneyu(data1, data2)\n",
        "  print(f\"Статистика = {stat:.5f}, p = {p:.5f}\")\n",
        "  if p > 0.05:\n",
        "    print('Не отклоняем нулевую гипотезу, распределения одинаковы')\n",
        "  else:\n",
        "    print('Отклоняем нулевую гипотезу, распределения различаются')\n",
        "\n"
      ],
      "metadata": {
        "id": "NyCMrE5jfNHN"
      },
      "execution_count": 47,
      "outputs": []
    },
    {
      "cell_type": "code",
      "source": [
        "hr_low_sal = hr[hr.salary == 'low'].average_montly_hours\n",
        "hr_high_sal = hr[hr.salary == 'high'].average_montly_hours\n",
        "\n",
        "#проверим нормальность распределения\n",
        "check_normality(hr_low_sal)\n",
        "check_normality(hr_high_sal)\n",
        "\n",
        "#для данного типа выборок нам подойдёт тест Манна-Уитни\n",
        "check_mannwhitneyu(hr_low_sal, hr_high_sal)\n",
        "\n",
        "'''\n",
        "В качестве вывода:\n",
        "\n",
        "Сотрудники с высокой заработной платой и сотрудники с низкой, проводят сопоставимое время на работе, гипотизу не отклоняем\n",
        "'''"
      ],
      "metadata": {
        "colab": {
          "base_uri": "https://localhost:8080/"
        },
        "id": "xeSo-MPagWEH",
        "outputId": "6e1ba0a5-59cd-407e-bb34-cdc8dac36fae"
      },
      "execution_count": 55,
      "outputs": [
        {
          "output_type": "stream",
          "name": "stdout",
          "text": [
            "Статистика = 0.960, p = 0.000\n",
            "Отклоняем нулевую гипотезу >> Данные распределены не нормально\n",
            "Статистика = 0.971, p = 0.000\n",
            "Отклоняем нулевую гипотезу >> Данные распределены не нормально\n",
            "Статистика = 4542795.50000, p = 0.82413\n",
            "Не отклоняем нулевую гипотезу, распределения одинаковы\n"
          ]
        },
        {
          "output_type": "stream",
          "name": "stderr",
          "text": [
            "/usr/local/lib/python3.10/dist-packages/scipy/stats/_morestats.py:1882: UserWarning: p-value may not be accurate for N > 5000.\n",
            "  warnings.warn(\"p-value may not be accurate for N > 5000.\")\n"
          ]
        }
      ]
    },
    {
      "cell_type": "code",
      "source": [
        "#визуализируем резултат\n",
        "plt.hist(hr_low_sal, bins=50);\n",
        "plt.hist(hr_high_sal, bins=50);"
      ],
      "metadata": {
        "colab": {
          "base_uri": "https://localhost:8080/",
          "height": 832
        },
        "id": "Dk0iqMVMyULq",
        "outputId": "45ceddcb-4af2-4a97-9069-c45053c2555d"
      },
      "execution_count": 64,
      "outputs": [
        {
          "output_type": "display_data",
          "data": {
            "text/plain": [
              "<Figure size 1600x1000 with 1 Axes>"
            ],
            "image/png": "[encoded data removed]"
          },
          "metadata": {}
        }
      ]
    },
    {
      "cell_type": "markdown",
      "source": [
        "#8. Рассчитать следующие показатели среди уволившихся и не уволившихся сотрудников (по отдельности):\n",
        "*   Доля сотрудников с повышением за последние 5 лет\n",
        "*   Средняя степень удовлетворенности\n",
        "*   Среднее количество проектов"
      ],
      "metadata": {
        "id": "CjmtgNzAzUli"
      }
    },
    {
      "cell_type": "code",
      "source": [
        "hr.left.value_counts()\n",
        "\n",
        "hr_left = hr[hr.left==0]\n",
        "hr_alive = hr[hr.left==1]\n",
        "\n",
        "new_hr = pd.DataFrame()\n",
        "\n",
        "new_hr['group'] = ['left']\n",
        "new_hr['avg_satisfaction_level'] = [round(hr_left.satisfaction_level.mean(), 2)]\n",
        "new_hr['avg_number_project'] = [round(hr_left.number_project.mean(), 2)]\n",
        "new_hr['perc_of_promotion_last_5years'] = [round(100 * (len(hr_left[hr.promotion_last_5years==1])/len(hr_left)), 2)]\n",
        "new_hr.loc[1, 'group'] = 'alive'\n",
        "new_hr.loc[1, 'avg_satisfaction_level'] = round(hr_alive.satisfaction_level.mean(), 2)\n",
        "new_hr.loc[1, 'avg_number_project'] = round(hr_alive.number_project.mean(), 2)\n",
        "new_hr.loc[1, 'perc_of_promotion_last_5years'] = round(100 * (len(hr_alive[hr.promotion_last_5years==1])/len(hr_alive)), 2)\n",
        "\n",
        "new_hr.head()"
      ],
      "metadata": {
        "colab": {
          "base_uri": "https://localhost:8080/",
          "height": 181
        },
        "id": "cQyytvQw01tY",
        "outputId": "6839aad8-1750-478a-838f-d6b9e5ce9eb3"
      },
      "execution_count": 122,
      "outputs": [
        {
          "output_type": "stream",
          "name": "stderr",
          "text": [
            "<ipython-input-122-b15c1b129a2a>:11: UserWarning: Boolean Series key will be reindexed to match DataFrame index.\n",
            "  new_hr['perc_of_promotion_last_5years'] = [round(100 * (len(hr_left[hr.promotion_last_5years==1])/len(hr_left)), 2)]\n",
            "<ipython-input-122-b15c1b129a2a>:15: UserWarning: Boolean Series key will be reindexed to match DataFrame index.\n",
            "  new_hr.loc[1, 'perc_of_promotion_last_5years'] = round(100 * (len(hr_alive[hr.promotion_last_5years==1])/len(hr_alive)), 2)\n"
          ]
        },
        {
          "output_type": "execute_result",
          "data": {
            "text/plain": [
              "   group  avg_satisfaction_level  avg_number_project  \\\n",
              "0   left                    0.67                3.79   \n",
              "1  alive                    0.44                3.86   \n",
              "\n",
              "   perc_of_promotion_last_5years  \n",
              "0                           2.63  \n",
              "1                           0.53  "
            ],
            "text/html": [
              "\n",
              "  <div id=\"df-732bdbf0-0294-4db7-826d-5ebb8a6bf8e0\" class=\"colab-df-container\">\n",
              "    <div>\n",
              "<style scoped>\n",
              "    .dataframe tbody tr th:only-of-type {\n",
              "        vertical-align: middle;\n",
              "    }\n",
              "\n",
              "    .dataframe tbody tr th {\n",
              "        vertical-align: top;\n",
              "    }\n",
              "\n",
              "    .dataframe thead th {\n",
              "        text-align: right;\n",
              "    }\n",
              "</style>\n",
              "<table border=\"1\" class=\"dataframe\">\n",
              "  <thead>\n",
              "    <tr style=\"text-align: right;\">\n",
              "      <th></th>\n",
              "      <th>group</th>\n",
              "      <th>avg_satisfaction_level</th>\n",
              "      <th>avg_number_project</th>\n",
              "      <th>perc_of_promotion_last_5years</th>\n",
              "    </tr>\n",
              "  </thead>\n",
              "  <tbody>\n",
              "    <tr>\n",
              "      <th>0</th>\n",
              "      <td>left</td>\n",
              "      <td>0.67</td>\n",
              "      <td>3.79</td>\n",
              "      <td>2.63</td>\n",
              "    </tr>\n",
              "    <tr>\n",
              "      <th>1</th>\n",
              "      <td>alive</td>\n",
              "      <td>0.44</td>\n",
              "      <td>3.86</td>\n",
              "      <td>0.53</td>\n",
              "    </tr>\n",
              "  </tbody>\n",
              "</table>\n",
              "</div>\n",
              "    <div class=\"colab-df-buttons\">\n",
              "\n",
              "  <div class=\"colab-df-container\">\n",
              "    <button class=\"colab-df-convert\" onclick=\"convertToInteractive('df-732bdbf0-0294-4db7-826d-5ebb8a6bf8e0')\"\n",
              "            title=\"Convert this dataframe to an interactive table.\"\n",
              "            style=\"display:none;\">\n",
              "\n",
              "  <svg xmlns=\"http://www.w3.org/2000/svg\" height=\"24px\" viewBox=\"0 -960 960 960\">\n",
              "    <path d=\"M120-120v-720h720v720H120Zm60-500h600v-160H180v160Zm220 220h160v-160H400v160Zm0 220h160v-160H400v160ZM180-400h160v-160H180v160Zm440 0h160v-160H620v160ZM180-180h160v-160H180v160Zm440 0h160v-160H620v160Z\"/>\n",
              "  </svg>\n",
              "    </button>\n",
              "\n",
              "  <style>\n",
              "    .colab-df-container {\n",
              "      display:flex;\n",
              "      gap: 12px;\n",
              "    }\n",
              "\n",
              "    .colab-df-convert {\n",
              "      background-color: #E8F0FE;\n",
              "      border: none;\n",
              "      border-radius: 50%;\n",
              "      cursor: pointer;\n",
              "      display: none;\n",
              "      fill: #1967D2;\n",
              "      height: 32px;\n",
              "      padding: 0 0 0 0;\n",
              "      width: 32px;\n",
              "    }\n",
              "\n",
              "    .colab-df-convert:hover {\n",
              "      background-color: #E2EBFA;\n",
              "      box-shadow: 0px 1px 2px rgba(60, 64, 67, 0.3), 0px 1px 3px 1px rgba(60, 64, 67, 0.15);\n",
              "      fill: #174EA6;\n",
              "    }\n",
              "\n",
              "    .colab-df-buttons div {\n",
              "      margin-bottom: 4px;\n",
              "    }\n",
              "\n",
              "    [theme=dark] .colab-df-convert {\n",
              "      background-color: #3B4455;\n",
              "      fill: #D2E3FC;\n",
              "    }\n",
              "\n",
              "    [theme=dark] .colab-df-convert:hover {\n",
              "      background-color: #434B5C;\n",
              "      box-shadow: 0px 1px 3px 1px rgba(0, 0, 0, 0.15);\n",
              "      filter: drop-shadow(0px 1px 2px rgba(0, 0, 0, 0.3));\n",
              "      fill: #FFFFFF;\n",
              "    }\n",
              "  </style>\n",
              "\n",
              "    <script>\n",
              "      const buttonEl =\n",
              "        document.querySelector('#df-732bdbf0-0294-4db7-826d-5ebb8a6bf8e0 button.colab-df-convert');\n",
              "      buttonEl.style.display =\n",
              "        google.colab.kernel.accessAllowed ? 'block' : 'none';\n",
              "\n",
              "      async function convertToInteractive(key) {\n",
              "        const element = document.querySelector('#df-732bdbf0-0294-4db7-826d-5ebb8a6bf8e0');\n",
              "        const dataTable =\n",
              "          await google.colab.kernel.invokeFunction('convertToInteractive',\n",
              "                                                    [key], {});\n",
              "        if (!dataTable) return;\n",
              "\n",
              "        const docLinkHtml = 'Like what you see? Visit the ' +\n",
              "          '<a target=\"_blank\" href=https://colab.research.google.com/notebooks/data_table.ipynb>data table notebook</a>'\n",
              "          + ' to learn more about interactive tables.';\n",
              "        element.innerHTML = '';\n",
              "        dataTable['output_type'] = 'display_data';\n",
              "        await google.colab.output.renderOutput(dataTable, element);\n",
              "        const docLink = document.createElement('div');\n",
              "        docLink.innerHTML = docLinkHtml;\n",
              "        element.appendChild(docLink);\n",
              "      }\n",
              "    </script>\n",
              "  </div>\n",
              "\n",
              "\n",
              "<div id=\"df-ef2b78f7-f43e-4581-ba07-6f86e67604ee\">\n",
              "  <button class=\"colab-df-quickchart\" onclick=\"quickchart('df-ef2b78f7-f43e-4581-ba07-6f86e67604ee')\"\n",
              "            title=\"Suggest charts\"\n",
              "            style=\"display:none;\">\n",
              "\n",
              "<svg xmlns=\"http://www.w3.org/2000/svg\" height=\"24px\"viewBox=\"0 0 24 24\"\n",
              "     width=\"24px\">\n",
              "    <g>\n",
              "        <path d=\"M19 3H5c-1.1 0-2 .9-2 2v14c0 1.1.9 2 2 2h14c1.1 0 2-.9 2-2V5c0-1.1-.9-2-2-2zM9 17H7v-7h2v7zm4 0h-2V7h2v10zm4 0h-2v-4h2v4z\"/>\n",
              "    </g>\n",
              "</svg>\n",
              "  </button>\n",
              "\n",
              "<style>\n",
              "  .colab-df-quickchart {\n",
              "      --bg-color: #E8F0FE;\n",
              "      --fill-color: #1967D2;\n",
              "      --hover-bg-color: #E2EBFA;\n",
              "      --hover-fill-color: #174EA6;\n",
              "      --disabled-fill-color: #AAA;\n",
              "      --disabled-bg-color: #DDD;\n",
              "  }\n",
              "\n",
              "  [theme=dark] .colab-df-quickchart {\n",
              "      --bg-color: #3B4455;\n",
              "      --fill-color: #D2E3FC;\n",
              "      --hover-bg-color: #434B5C;\n",
              "      --hover-fill-color: #FFFFFF;\n",
              "      --disabled-bg-color: #3B4455;\n",
              "      --disabled-fill-color: #666;\n",
              "  }\n",
              "\n",
              "  .colab-df-quickchart {\n",
              "    background-color: var(--bg-color);\n",
              "    border: none;\n",
              "    border-radius: 50%;\n",
              "    cursor: pointer;\n",
              "    display: none;\n",
              "    fill: var(--fill-color);\n",
              "    height: 32px;\n",
              "    padding: 0;\n",
              "    width: 32px;\n",
              "  }\n",
              "\n",
              "  .colab-df-quickchart:hover {\n",
              "    background-color: var(--hover-bg-color);\n",
              "    box-shadow: 0 1px 2px rgba(60, 64, 67, 0.3), 0 1px 3px 1px rgba(60, 64, 67, 0.15);\n",
              "    fill: var(--button-hover-fill-color);\n",
              "  }\n",
              "\n",
              "  .colab-df-quickchart-complete:disabled,\n",
              "  .colab-df-quickchart-complete:disabled:hover {\n",
              "    background-color: var(--disabled-bg-color);\n",
              "    fill: var(--disabled-fill-color);\n",
              "    box-shadow: none;\n",
              "  }\n",
              "\n",
              "  .colab-df-spinner {\n",
              "    border: 2px solid var(--fill-color);\n",
              "    border-color: transparent;\n",
              "    border-bottom-color: var(--fill-color);\n",
              "    animation:\n",
              "      spin 1s steps(1) infinite;\n",
              "  }\n",
              "\n",
              "  @keyframes spin {\n",
              "    0% {\n",
              "      border-color: transparent;\n",
              "      border-bottom-color: var(--fill-color);\n",
              "      border-left-color: var(--fill-color);\n",
              "    }\n",
              "    20% {\n",
              "      border-color: transparent;\n",
              "      border-left-color: var(--fill-color);\n",
              "      border-top-color: var(--fill-color);\n",
              "    }\n",
              "    30% {\n",
              "      border-color: transparent;\n",
              "      border-left-color: var(--fill-color);\n",
              "      border-top-color: var(--fill-color);\n",
              "      border-right-color: var(--fill-color);\n",
              "    }\n",
              "    40% {\n",
              "      border-color: transparent;\n",
              "      border-right-color: var(--fill-color);\n",
              "      border-top-color: var(--fill-color);\n",
              "    }\n",
              "    60% {\n",
              "      border-color: transparent;\n",
              "      border-right-color: var(--fill-color);\n",
              "    }\n",
              "    80% {\n",
              "      border-color: transparent;\n",
              "      border-right-color: var(--fill-color);\n",
              "      border-bottom-color: var(--fill-color);\n",
              "    }\n",
              "    90% {\n",
              "      border-color: transparent;\n",
              "      border-bottom-color: var(--fill-color);\n",
              "    }\n",
              "  }\n",
              "</style>\n",
              "\n",
              "  <script>\n",
              "    async function quickchart(key) {\n",
              "      const quickchartButtonEl =\n",
              "        document.querySelector('#' + key + ' button');\n",
              "      quickchartButtonEl.disabled = true;  // To prevent multiple clicks.\n",
              "      quickchartButtonEl.classList.add('colab-df-spinner');\n",
              "      try {\n",
              "        const charts = await google.colab.kernel.invokeFunction(\n",
              "            'suggestCharts', [key], {});\n",
              "      } catch (error) {\n",
              "        console.error('Error during call to suggestCharts:', error);\n",
              "      }\n",
              "      quickchartButtonEl.classList.remove('colab-df-spinner');\n",
              "      quickchartButtonEl.classList.add('colab-df-quickchart-complete');\n",
              "    }\n",
              "    (() => {\n",
              "      let quickchartButtonEl =\n",
              "        document.querySelector('#df-ef2b78f7-f43e-4581-ba07-6f86e67604ee button');\n",
              "      quickchartButtonEl.style.display =\n",
              "        google.colab.kernel.accessAllowed ? 'block' : 'none';\n",
              "    })();\n",
              "  </script>\n",
              "</div>\n",
              "    </div>\n",
              "  </div>\n"
            ]
          },
          "metadata": {},
          "execution_count": 122
        }
      ]
    },
    {
      "cell_type": "markdown",
      "source": [
        "#9. Разделить данные на тестовую и обучающую выборки Построить модель LDA, предсказывающую уволился ли сотрудник на основе имеющихся факторов (кроме department и salary). Оценить качество модели на тестовой выборки."
      ],
      "metadata": {
        "id": "LbKFDGPo0OeT"
      }
    },
    {
      "cell_type": "code",
      "source": [
        "# эту тему я, как-то,  пропустил, и даже не нашел подходящих домашних заданий, пусть останется точкой роста, к которой я обязательно вернусь."
      ],
      "metadata": {
        "id": "ktLfNInEM4gO"
      },
      "execution_count": null,
      "outputs": []
    },
    {
      "cell_type": "markdown",
      "source": [
        "#10. Загрузить jupyter notebook с решением на github и прислать ссылку"
      ],
      "metadata": {
        "id": "wXsxXXAX0YQz"
      }
    },
    {
      "cell_type": "code",
      "source": [
        "#собственно, загружаю сейчас."
      ],
      "metadata": {
        "id": "tnjxZLlFNJsF"
      },
      "execution_count": null,
      "outputs": []
    }
  ],
  "metadata": {
    "colab": {
      "provenance": [],
      "collapsed_sections": [
        "32sUVg65U1U_",
        "hpzNS7DdU--d",
        "nEsHnOddoWak",
        "WBWU4riLoY5b",
        "BFwq1hCFo2i0",
        "VGktBFG9zGSc",
        "BY0Z_AzPzKsm",
        "XdXdw8xJzN71",
        "CjmtgNzAzUli",
        "LbKFDGPo0OeT",
        "wXsxXXAX0YQz"
      ]
    },
    "kernelspec": {
      "display_name": "Python 3",
      "name": "python3"
    }
  },
  "nbformat": 4,
  "nbformat_minor": 0
}